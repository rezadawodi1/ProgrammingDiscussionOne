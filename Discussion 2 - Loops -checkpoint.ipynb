{
 "cells": [
  {
   "cell_type": "markdown",
   "metadata": {},
   "source": [
    "## Discussion 2 - Loops\n",
    "\n"
   ]
  },
  {
   "cell_type": "markdown",
   "metadata": {},
   "source": [
    "### 1. Canteen Dish (★★★☆☆)\n",
    "Write a program that corresponds to the \"Season your dish from the canteen\" Activity Diagram example from the first week's lecture (pre-test loop). It should announce you the dish, ask you if it needs more salt (y/n), if yes add salt and ask again, and if not let you enjoy it. The output should be something like:\n",
    "```\n",
    "Hello, here is the dish of the day for you.\n",
    "Does it need more salt? (y/n) y\n",
    "I added some more salt.\n",
    "Does it need more salt? (y/n) y\n",
    "I added some more salt.\n",
    "Does it need more salt? (y/n) n\n",
    "Enjoy your meal!\n",
    "```"
   ]
  },
  {
   "cell_type": "markdown",
   "metadata": {},
   "source": [
    "### 2. Summing Up (★★★★☆)\n",
    "Write a program that asks the user to enter an integer number n, computes the sum of all numbers from 1 to n, and prints the result. The output should look like:\n",
    "```\n",
    "Please enter an integer number: 5\n",
    "The sum of all numbers from 1 to 5 is 15\n",
    "```"
   ]
  },
  {
   "cell_type": "markdown",
   "metadata": {},
   "source": [
    "### 3. The Bag of Marshmallows (★★★☆☆)\n",
    "Write a program that implements the \"Eating a bag of marshmallows\" example from the lecture on Activity Diagrams. It should tell the user to open the bag, eat a marshmallow, ask if there are more left, and repeat eating and asking until the bag is empty. Then the bag should be put into trash. The output should be something like:\n",
    "Open bag of marshmallows.\n",
    "```\n",
    "Eat marshmallow.\n",
    "More marshmallows left? (y/n) y\n",
    "Eat marshmallow. \n",
    "[...]\n",
    "More marshmallows left? (y/n) n\n",
    "Dispose of bag.\n",
    "```"
   ]
  },
  {
   "cell_type": "code",
   "execution_count": 2,
   "metadata": {},
   "outputs": [
    {
     "name": "stdout",
     "output_type": "stream",
     "text": [
      "Hello, here is the dish of the day for you.\n",
      "Does it need more salt? (y/n)y\n",
      "I added some more salt.\n",
      "Does it need more salt? (y/n)n\n",
      "Enjoy!\n"
     ]
    }
   ],
   "source": [
    "print(\"Hello, here is the dish of the day for you.\")\n",
    "x = input(\"Does it need more salt? (y/n)\")\n",
    "while (x == 'y'):\n",
    "    print(\"I added some more salt.\")\n",
    "    x = input(\"Does it need more salt? (y/n)\")\n",
    "print(\"Enjoy your meal!\")"
   ]
  },
  {
   "cell_type": "code",
   "execution_count": null,
   "metadata": {},
   "outputs": [],
   "source": []
  }
 ],
 "metadata": {
  "kernelspec": {
   "display_name": "Python 3 (ipykernel)",
   "language": "python",
   "name": "python3"
  },
  "language_info": {
   "codemirror_mode": {
    "name": "ipython",
    "version": 3
   },
   "file_extension": ".py",
   "mimetype": "text/x-python",
   "name": "python",
   "nbconvert_exporter": "python",
   "pygments_lexer": "ipython3",
   "version": "3.10.10"
  }
 },
 "nbformat": 4,
 "nbformat_minor": 4
}
